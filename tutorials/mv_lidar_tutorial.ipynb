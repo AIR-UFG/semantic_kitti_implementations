{
 "cells": [
  {
   "cell_type": "markdown",
   "id": "7cbceea4-b49b-4a1b-a124-fb81e75468a6",
   "metadata": {},
   "source": [
    "# MV Lidar Tutorial"
   ]
  },
  {
   "cell_type": "markdown",
   "id": "85fbc2b4-fcab-4874-b9e3-5b9185f2114f",
   "metadata": {},
   "source": [
    "This notebook aims to provide a simple tutorial for training using the MV Lidar model."
   ]
  },
  {
   "cell_type": "code",
   "execution_count": 24,
   "id": "3261393d-385d-4466-bf4c-934c9fde6d76",
   "metadata": {},
   "outputs": [],
   "source": [
    "#| eval: false\n",
    "from semantic_kitti_implementations import mvlidar_model\n",
    "from semantic_kitti_implementations import train\n",
    "from semantic_kitti_implementations import data\n",
    "\n",
    "from torch.nn import CrossEntropyLoss\n",
    "from torchvision import transforms\n",
    "from torch.optim import Adam\n",
    "\n",
    "import wandb"
   ]
  },
  {
   "cell_type": "markdown",
   "id": "c4116183-4d3f-41aa-91e0-1c2daaa89646",
   "metadata": {},
   "source": [
    "For training management purposes, wandb is being used, [click here](https://docs.wandb.ai/quickstart) for a quickstart if you need one. \\\n",
    "Adjust the following hyperparameters below in whatever way you find most suitable."
   ]
  },
  {
   "cell_type": "code",
   "execution_count": 34,
   "id": "dd7c96bc-4591-4cb0-9f16-bd0d636cbb52",
   "metadata": {},
   "outputs": [
    {
     "data": {
      "text/html": [
       "Tracking run with wandb version 0.16.6"
      ],
      "text/plain": [
       "<IPython.core.display.HTML object>"
      ]
     },
     "metadata": {},
     "output_type": "display_data"
    },
    {
     "data": {
      "text/html": [
       "Run data is saved locally in <code>../wandb/run-20240507_154841-ieyuzeq5</code>"
      ],
      "text/plain": [
       "<IPython.core.display.HTML object>"
      ]
     },
     "metadata": {},
     "output_type": "display_data"
    },
    {
     "data": {
      "text/html": [
       "Syncing run <strong><a href='https://wandb.ai/lucasbragasantos/mv_lidar/runs/ieyuzeq5' target=\"_blank\">v4</a></strong> to <a href='https://wandb.ai/lucasbragasantos/mv_lidar' target=\"_blank\">Weights & Biases</a> (<a href='https://wandb.me/run' target=\"_blank\">docs</a>)<br/>"
      ],
      "text/plain": [
       "<IPython.core.display.HTML object>"
      ]
     },
     "metadata": {},
     "output_type": "display_data"
    },
    {
     "data": {
      "text/html": [
       " View project at <a href='https://wandb.ai/lucasbragasantos/mv_lidar' target=\"_blank\">https://wandb.ai/lucasbragasantos/mv_lidar</a>"
      ],
      "text/plain": [
       "<IPython.core.display.HTML object>"
      ]
     },
     "metadata": {},
     "output_type": "display_data"
    },
    {
     "data": {
      "text/html": [
       " View run at <a href='https://wandb.ai/lucasbragasantos/mv_lidar/runs/ieyuzeq5' target=\"_blank\">https://wandb.ai/lucasbragasantos/mv_lidar/runs/ieyuzeq5</a>"
      ],
      "text/plain": [
       "<IPython.core.display.HTML object>"
      ]
     },
     "metadata": {},
     "output_type": "display_data"
    },
    {
     "data": {
      "text/html": [
       "<button onClick=\"this.nextSibling.style.display='block';this.style.display='none';\">Display W&B run</button><iframe src='https://wandb.ai/lucasbragasantos/mv_lidar/runs/ieyuzeq5?jupyter=true' style='border:none;width:100%;height:420px;display:none;'></iframe>"
      ],
      "text/plain": [
       "<wandb.sdk.wandb_run.Run at 0x7f72e630cdf0>"
      ]
     },
     "execution_count": 34,
     "metadata": {},
     "output_type": "execute_result"
    }
   ],
   "source": [
    "#| eval: false\n",
    "wandb.init(\n",
    "    project=\"mv_lidar\", # name of the project\n",
    "    name=\"v4\", # name of the experiment\n",
    "    dir=\"../\", # directory for wandb artifacts\n",
    "\n",
    "    config={\n",
    "        \"learning_rate\": 0.01,\n",
    "        \"num_epochs\": 100,\n",
    "        \"batch_size\": 4,\n",
    "        \"num_classes\": 7\n",
    "    }\n",
    ")"
   ]
  },
  {
   "cell_type": "markdown",
   "id": "34df3804-f506-4d5d-964c-6421a442503b",
   "metadata": {},
   "source": [
    "Define the paths for the images and annotations. It's worth to know that the model takes as input a two-channel image containing reflectance and depth. For more information, visit the [Cloud2dImageConverter](https://github.com/AIR-UFG/Cloud2DImageConverter) repository."
   ]
  },
  {
   "cell_type": "code",
   "execution_count": 35,
   "id": "dabecf78-fef2-434b-a45f-1a4ddcca076c",
   "metadata": {},
   "outputs": [],
   "source": [
    "train_imgs_path = \"../dataset/train/imgs/\"\n",
    "test_imgs_path =  \"../dataset/test/imgs/\"\n",
    "train_anns_path = \"../dataset/train/anns/\"\n",
    "test_anns_path = \"../dataset/test/anns/\""
   ]
  },
  {
   "cell_type": "markdown",
   "id": "fb47ba67-627a-449d-9295-62f7590195ac",
   "metadata": {},
   "source": [
    "Since this model does not utilize all of the Semantic Kitti classes, we will be remapping the ones that we will use and removing the others."
   ]
  },
  {
   "cell_type": "code",
   "execution_count": 36,
   "id": "a59ddd0d-c571-4189-afb9-eb79d43c24c6",
   "metadata": {},
   "outputs": [],
   "source": [
    "#| eval: false\n",
    "remapping_rules = {\n",
    "  1: 1,\n",
    "  4: 2,\n",
    "  6: 3,\n",
    "  7: 4,\n",
    "  2: 4,\n",
    "  9: 5,\n",
    "  11: 6\n",
    "}\n",
    "\n",
    "data.remap_segmentation_masks(train_anns_path, train_anns_path, remapping_rules=remapping_rules)\n",
    "data.remap_segmentation_masks(test_anns_path, test_anns_path, remapping_rules=remapping_rules)"
   ]
  },
  {
   "cell_type": "code",
   "execution_count": 37,
   "id": "8750cbcc-1172-431e-ad79-78459bb21603",
   "metadata": {},
   "outputs": [],
   "source": [
    "#| eval: false\n",
    "transform = transforms.Compose([transforms.ToTensor()])\n",
    "\n",
    "train_dataset = data.SemanticDataset(image_path=train_imgs_path,mask_path=train_anns_path,transform=transform)\n",
    "test_dataset = data.SemanticDataset(image_path=test_imgs_path,mask_path=test_anns_path,transform=transform)"
   ]
  },
  {
   "cell_type": "code",
   "execution_count": 38,
   "id": "245cea6f-3b82-4b84-91c4-427cd3002cf5",
   "metadata": {},
   "outputs": [],
   "source": [
    "evaluator = train.Evaluator(loss_fn=CrossEntropyLoss(reduction=\"none\"))"
   ]
  },
  {
   "cell_type": "code",
   "execution_count": 39,
   "id": "17be2e88-96c3-4df8-bb80-236b2b2eea12",
   "metadata": {},
   "outputs": [],
   "source": [
    "learner = train.Learner(model=mvlidar_model.MVLidar, \n",
    "                        optimizer=Adam, \n",
    "                        lr=wandb.config[\"learning_rate\"], \n",
    "                        num_classes=wandb.config[\"num_classes\"])"
   ]
  },
  {
   "cell_type": "code",
   "execution_count": 40,
   "id": "4cd3d545-5613-4ef5-a0b8-2aac9266149a",
   "metadata": {},
   "outputs": [],
   "source": [
    "trainer = train.Trainer(train_dataset=train_dataset, \n",
    "                        test_dataset=test_dataset, \n",
    "                        learner=learner, \n",
    "                        evaluator=evaluator, \n",
    "                        batch_size=wandb.config[\"batch_size\"])"
   ]
  },
  {
   "cell_type": "code",
   "execution_count": 41,
   "id": "a35b6983-aaf1-4951-8cc8-e98727b1fa41",
   "metadata": {},
   "outputs": [
    {
     "name": "stdout",
     "output_type": "stream",
     "text": [
      "Epoch 20\n",
      "------------\n",
      "Train loss 0.00018572086992207915\n",
      "Test loss 0.0050450339913368225\n",
      "Epoch 40\n",
      "------------\n",
      "Train loss 6.047436727385502e-05\n",
      "Test loss 0.00014661295426776633\n",
      "Epoch 60\n",
      "------------\n",
      "Train loss 3.628457125159912e-05\n",
      "Test loss 6.894755642861128e-05\n",
      "Epoch 80\n",
      "------------\n",
      "Train loss 2.4496363948856015e-05\n",
      "Test loss 3.9093098166631535e-05\n",
      "Epoch 100\n",
      "------------\n",
      "Train loss 0.00018958958389703184\n",
      "Test loss 0.002348897571209818\n",
      "Done!\n"
     ]
    }
   ],
   "source": [
    "trainer.run(wandb=wandb,\n",
    "            n_epochs=wandb.config[\"num_epochs\"])"
   ]
  },
  {
   "cell_type": "code",
   "execution_count": 42,
   "id": "2fc8c2a1-6f1e-4b01-9001-132a6843b371",
   "metadata": {},
   "outputs": [
    {
     "data": {
      "application/vnd.jupyter.widget-view+json": {
       "model_id": "",
       "version_major": 2,
       "version_minor": 0
      },
      "text/plain": [
       "VBox(children=(Label(value='0.002 MB of 0.002 MB uploaded\\r'), FloatProgress(value=1.0, max=1.0)))"
      ]
     },
     "metadata": {},
     "output_type": "display_data"
    },
    {
     "data": {
      "text/html": [
       "<style>\n",
       "    table.wandb td:nth-child(1) { padding: 0 10px; text-align: left ; width: auto;} td:nth-child(2) {text-align: left ; width: 100%}\n",
       "    .wandb-row { display: flex; flex-direction: row; flex-wrap: wrap; justify-content: flex-start; width: 100% }\n",
       "    .wandb-col { display: flex; flex-direction: column; flex-basis: 100%; flex: 1; padding: 10px; }\n",
       "    </style>\n",
       "<div class=\"wandb-row\"><div class=\"wandb-col\"><h3>Run history:</h3><br/><table class=\"wandb\"><tr><td>test_loss</td><td>▃▂▇▆██▅▄▂▂▁▁▁▁▁▁▁▁▁▁▁▁▁▁▁▁▁▁▁▁▁▁▁▁▁▁▁▁▁▂</td></tr><tr><td>train_loss</td><td>█▄▂▁▁▁▁▁▁▁▁▁▁▁▁▁▁▁▁▁▁▁▁▁▁▁▁▁▁▁▁▁▁▁▁▁▂▁▁▁</td></tr></table><br/></div><div class=\"wandb-col\"><h3>Run summary:</h3><br/><table class=\"wandb\"><tr><td>test_loss</td><td>0.00235</td></tr><tr><td>train_loss</td><td>0.00019</td></tr></table><br/></div></div>"
      ],
      "text/plain": [
       "<IPython.core.display.HTML object>"
      ]
     },
     "metadata": {},
     "output_type": "display_data"
    },
    {
     "data": {
      "text/html": [
       " View run <strong style=\"color:#cdcd00\">v4</strong> at: <a href='https://wandb.ai/lucasbragasantos/mv_lidar/runs/ieyuzeq5' target=\"_blank\">https://wandb.ai/lucasbragasantos/mv_lidar/runs/ieyuzeq5</a><br/> View project at: <a href='https://wandb.ai/lucasbragasantos/mv_lidar' target=\"_blank\">https://wandb.ai/lucasbragasantos/mv_lidar</a><br/>Synced 5 W&B file(s), 0 media file(s), 0 artifact file(s) and 0 other file(s)"
      ],
      "text/plain": [
       "<IPython.core.display.HTML object>"
      ]
     },
     "metadata": {},
     "output_type": "display_data"
    },
    {
     "data": {
      "text/html": [
       "Find logs at: <code>../wandb/run-20240507_154841-ieyuzeq5/logs</code>"
      ],
      "text/plain": [
       "<IPython.core.display.HTML object>"
      ]
     },
     "metadata": {},
     "output_type": "display_data"
    }
   ],
   "source": [
    "wandb.finish()"
   ]
  }
 ],
 "metadata": {
  "kernelspec": {
   "display_name": "Python 3 (ipykernel)",
   "language": "python",
   "name": "python3"
  },
  "language_info": {
   "codemirror_mode": {
    "name": "ipython",
    "version": 3
   },
   "file_extension": ".py",
   "mimetype": "text/x-python",
   "name": "python",
   "nbconvert_exporter": "python",
   "pygments_lexer": "ipython3",
   "version": "3.10.12"
  }
 },
 "nbformat": 4,
 "nbformat_minor": 5
}
