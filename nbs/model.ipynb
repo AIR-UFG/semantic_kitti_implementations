{
 "cells": [
  {
   "cell_type": "code",
   "execution_count": null,
   "id": "7db6fafb-a815-4f2f-9a92-8a8438fb03be",
   "metadata": {},
   "outputs": [],
   "source": [
    "#| eval: false"
   ]
  }
 ],
 "metadata": {
  "kernelspec": {
   "display_name": "python3",
   "language": "python",
   "name": "python3"
  }
 },
 "nbformat": 4,
 "nbformat_minor": 5
}
