{
 "cells": [
  {
   "cell_type": "code",
   "execution_count": null,
   "id": "149f29e9-6adc-44d5-a0d8-5db469c0b8f2",
   "metadata": {},
   "outputs": [],
   "source": [
    "#|default_exp data"
   ]
  },
  {
   "cell_type": "code",
   "execution_count": null,
   "id": "3627d8e3-94cf-466d-9cdb-47fa57b459d4",
   "metadata": {},
   "outputs": [],
   "source": [
    "#| export\n",
    "import torch, os\n",
    "import numpy as np\n",
    "from torch.utils.data import Dataset\n",
    "from PIL import Image"
   ]
  },
  {
   "cell_type": "code",
   "execution_count": null,
   "id": "f232117d-4284-437b-8d92-42df60819b1a",
   "metadata": {},
   "outputs": [],
   "source": [
    "#| export\n",
    "class SemanticDataset(Dataset):\n",
    "    def __init__(self, image_path, mask_path, transform=None):\n",
    "        self.image_path = image_path\n",
    "        self.mask_path = mask_path\n",
    "        self.transform = transform\n",
    "        self.image_filenames = os.listdir(image_path)\n",
    "        self.mask_filenames = os.listdir(mask_path)\n",
    "\n",
    "    def __len__(self):\n",
    "        return len(self.image_filenames)\n",
    "\n",
    "    def __getitem__(self, idx):\n",
    "        img_name = os.path.join(self.image_path, self.image_filenames[idx])\n",
    "        mask_name = os.path.join(self.mask_path, self.mask_filenames[idx])\n",
    "\n",
    "        image = np.array(Image.open(img_name))\n",
    "        mask = np.array(Image.open(mask_name))\n",
    "\n",
    "        if self.transform:\n",
    "            image = self.transform(image)\n",
    "            mask = torch.from_numpy(mask.astype(np.int64))\n",
    "\n",
    "        return image, mask"
   ]
  },
  {
   "cell_type": "code",
   "execution_count": null,
   "id": "721a8bee-8f22-42da-8c3d-5b3cd4ac8a18",
   "metadata": {},
   "outputs": [],
   "source": [
    "#| export\n",
    "def remap_segmentation_masks(origin_path, output_dir, remapping_rules):\n",
    "    for filename in os.listdir(origin_path):\n",
    "      if filename.endswith(\".png\"):\n",
    "          image_path = os.path.join(origin_path, filename)\n",
    "          img = Image.open(image_path)\n",
    "    \n",
    "          img_array = np.array(img)\n",
    "    \n",
    "          remapped_array = np.zeros_like(img_array)\n",
    "          for old_value, new_value in remapping_rules.items():\n",
    "              remapped_array[img_array == old_value] = new_value\n",
    "    \n",
    "          remapped_img = Image.fromarray(remapped_array)\n",
    "    \n",
    "          output_path = os.path.join(output_dir, filename)\n",
    "          remapped_img.save(output_path)"
   ]
  },
  {
   "cell_type": "code",
   "execution_count": null,
   "id": "bde2964c-7bf6-423f-bc3e-30ee3a726257",
   "metadata": {},
   "outputs": [],
   "source": [
    "#| hide\n",
    "import nbdev; nbdev.nbdev_export()"
   ]
  }
 ],
 "metadata": {
  "kernelspec": {
   "display_name": "python3",
   "language": "python",
   "name": "python3"
  }
 },
 "nbformat": 4,
 "nbformat_minor": 5
}
