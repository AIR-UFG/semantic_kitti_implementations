{
 "cells": [
  {
   "cell_type": "code",
   "execution_count": null,
   "id": "fe2f682a-21f0-46ee-9453-3de5aaabc64f",
   "metadata": {},
   "outputs": [],
   "source": [
    "#| eval: false"
   ]
  }
 ],
 "metadata": {
  "kernelspec": {
   "display_name": "Python 3 (ipykernel)",
   "language": "python",
   "name": "python3"
  },
  "language_info": {
   "codemirror_mode": {
    "name": "ipython",
    "version": 3
   },
   "file_extension": ".py",
   "mimetype": "text/x-python",
   "name": "python",
   "nbconvert_exporter": "python",
   "pygments_lexer": "ipython3",
   "version": "3.10.12"
  }
 },
 "nbformat": 4,
 "nbformat_minor": 5
}
